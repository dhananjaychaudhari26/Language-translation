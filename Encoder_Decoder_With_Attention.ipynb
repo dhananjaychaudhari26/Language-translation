{
 "cells": [
  {
   "cell_type": "markdown",
   "metadata": {
    "id": "3k_AlAuKJqVA"
   },
   "source": [
    "<font color='blue'>**Load the data**</font>"
   ]
  },
  {
   "cell_type": "code",
   "execution_count": 2,
   "metadata": {},
   "outputs": [],
   "source": [
    "import io\n",
    "import os\n",
    "import re\n",
    "import pickle\n",
    "import matplotlib.pyplot as plt\n",
    "%matplotlib inline\n",
    "import seaborn as sns\n",
    "import pandas as pd\n",
    "import tensorflow as tf\n",
    "from tensorflow.keras.layers import Embedding, LSTM, Dense,concatenate\n",
    "from tensorflow.keras.models import Model\n",
    "from tensorflow.keras.preprocessing.text import Tokenizer\n",
    "from tensorflow.keras.preprocessing.sequence import pad_sequences\n",
    "import numpy as np\n",
    "from sklearn.model_selection import train_test_split\n",
    "import pdb\n",
    "from tqdm import tqdm\n",
    "import datetime\n",
    "import nltk.translate.bleu_score as bleu\n",
    "import matplotlib.pyplot as plt\n",
    "import gc"
   ]
  },
  {
   "cell_type": "code",
   "execution_count": 3,
   "metadata": {},
   "outputs": [],
   "source": [
    "physical_devices = tf.config.list_physical_devices('GPU') \n",
    "tf.config.experimental.set_memory_growth(physical_devices[0], True)"
   ]
  },
  {
   "cell_type": "code",
   "execution_count": 4,
   "metadata": {
    "id": "fU80Ao-AGaob"
   },
   "outputs": [
    {
     "name": "stdout",
     "output_type": "stream",
     "text": [
      "(421765, 2)\n"
     ]
    },
    {
     "data": {
      "text/html": [
       "<div>\n",
       "<style scoped>\n",
       "    .dataframe tbody tr th:only-of-type {\n",
       "        vertical-align: middle;\n",
       "    }\n",
       "\n",
       "    .dataframe tbody tr th {\n",
       "        vertical-align: top;\n",
       "    }\n",
       "\n",
       "    .dataframe thead th {\n",
       "        text-align: right;\n",
       "    }\n",
       "</style>\n",
       "<table border=\"1\" class=\"dataframe\">\n",
       "  <thead>\n",
       "    <tr style=\"text-align: right;\">\n",
       "      <th></th>\n",
       "      <th>english</th>\n",
       "      <th>russian</th>\n",
       "    </tr>\n",
       "  </thead>\n",
       "  <tbody>\n",
       "    <tr>\n",
       "      <th>0</th>\n",
       "      <td>Go.</td>\n",
       "      <td>Марш!</td>\n",
       "    </tr>\n",
       "    <tr>\n",
       "      <th>1</th>\n",
       "      <td>Go.</td>\n",
       "      <td>Иди.</td>\n",
       "    </tr>\n",
       "    <tr>\n",
       "      <th>2</th>\n",
       "      <td>Go.</td>\n",
       "      <td>Идите.</td>\n",
       "    </tr>\n",
       "    <tr>\n",
       "      <th>3</th>\n",
       "      <td>Hi.</td>\n",
       "      <td>Здравствуйте.</td>\n",
       "    </tr>\n",
       "    <tr>\n",
       "      <th>4</th>\n",
       "      <td>Hi.</td>\n",
       "      <td>Привет!</td>\n",
       "    </tr>\n",
       "  </tbody>\n",
       "</table>\n",
       "</div>"
      ],
      "text/plain": [
       "  english        russian\n",
       "0     Go.          Марш!\n",
       "1     Go.           Иди.\n",
       "2     Go.         Идите.\n",
       "3     Hi.  Здравствуйте.\n",
       "4     Hi.        Привет!"
      ]
     },
     "execution_count": 4,
     "metadata": {},
     "output_type": "execute_result"
    }
   ],
   "source": [
    "with open('rus-eng/rus.txt', 'r', encoding=\"utf8\") as f:\n",
    "    eng=[]\n",
    "    rus=[]\n",
    "    for i in f.readlines():\n",
    "        splited_string = i.split(\"\\t\")\n",
    "        eng.append(splited_string[0])\n",
    "        rus.append(splited_string[1])\n",
    "data = pd.DataFrame(data=zip(eng, rus), columns=['english','russian'])\n",
    "print(data.shape)\n",
    "del eng,rus\n",
    "gc.collect()\n",
    "data.head()"
   ]
  },
  {
   "cell_type": "markdown",
   "metadata": {
    "id": "vmGWTdRmKRph"
   },
   "source": [
    "<font color='blue'>**Preprocess data**</font>"
   ]
  },
  {
   "cell_type": "code",
   "execution_count": 5,
   "metadata": {
    "id": "9QqElB_nKZos"
   },
   "outputs": [
    {
     "data": {
      "text/html": [
       "<div>\n",
       "<style scoped>\n",
       "    .dataframe tbody tr th:only-of-type {\n",
       "        vertical-align: middle;\n",
       "    }\n",
       "\n",
       "    .dataframe tbody tr th {\n",
       "        vertical-align: top;\n",
       "    }\n",
       "\n",
       "    .dataframe thead th {\n",
       "        text-align: right;\n",
       "    }\n",
       "</style>\n",
       "<table border=\"1\" class=\"dataframe\">\n",
       "  <thead>\n",
       "    <tr style=\"text-align: right;\">\n",
       "      <th></th>\n",
       "      <th>english</th>\n",
       "      <th>russian</th>\n",
       "    </tr>\n",
       "  </thead>\n",
       "  <tbody>\n",
       "    <tr>\n",
       "      <th>0</th>\n",
       "      <td>go</td>\n",
       "      <td>марш</td>\n",
       "    </tr>\n",
       "    <tr>\n",
       "      <th>1</th>\n",
       "      <td>go</td>\n",
       "      <td>иди</td>\n",
       "    </tr>\n",
       "    <tr>\n",
       "      <th>2</th>\n",
       "      <td>go</td>\n",
       "      <td>идите</td>\n",
       "    </tr>\n",
       "    <tr>\n",
       "      <th>3</th>\n",
       "      <td>hi</td>\n",
       "      <td>здравствуйте</td>\n",
       "    </tr>\n",
       "    <tr>\n",
       "      <th>4</th>\n",
       "      <td>hi</td>\n",
       "      <td>привет</td>\n",
       "    </tr>\n",
       "  </tbody>\n",
       "</table>\n",
       "</div>"
      ],
      "text/plain": [
       "  english       russian\n",
       "0      go          марш\n",
       "1      go           иди\n",
       "2      go         идите\n",
       "3      hi  здравствуйте\n",
       "4      hi        привет"
      ]
     },
     "execution_count": 5,
     "metadata": {},
     "output_type": "execute_result"
    }
   ],
   "source": [
    "def decontractions(phrase):\n",
    "    \"\"\"decontracted takes text and convert contractions into natural form.\n",
    "     ref: https://stackoverflow.com/questions/19790188/expanding-english-language-contractions-in-python/47091490#47091490\"\"\"\n",
    "    # specific\n",
    "    phrase = re.sub(r\"won\\'t\", \"will not\", phrase)\n",
    "    phrase = re.sub(r\"can\\'t\", \"can not\", phrase)\n",
    "    phrase = re.sub(r\"won\\’t\", \"will not\", phrase)\n",
    "    phrase = re.sub(r\"can\\’t\", \"can not\", phrase)\n",
    "\n",
    "    # general\n",
    "    phrase = re.sub(r\"n\\'t\", \" not\", phrase)\n",
    "    phrase = re.sub(r\"\\'re\", \" are\", phrase)\n",
    "    phrase = re.sub(r\"\\'s\", \" is\", phrase)\n",
    "    phrase = re.sub(r\"\\'d\", \" would\", phrase)\n",
    "    phrase = re.sub(r\"\\'ll\", \" will\", phrase)\n",
    "    phrase = re.sub(r\"\\'t\", \" not\", phrase)\n",
    "    phrase = re.sub(r\"\\'ve\", \" have\", phrase)\n",
    "    phrase = re.sub(r\"\\'m\", \" am\", phrase)\n",
    "\n",
    "    phrase = re.sub(r\"n\\’t\", \" not\", phrase)\n",
    "    phrase = re.sub(r\"\\’re\", \" are\", phrase)\n",
    "    phrase = re.sub(r\"\\’s\", \" is\", phrase)\n",
    "    phrase = re.sub(r\"\\’d\", \" would\", phrase)\n",
    "    phrase = re.sub(r\"\\’ll\", \" will\", phrase)\n",
    "    phrase = re.sub(r\"\\’t\", \" not\", phrase)\n",
    "    phrase = re.sub(r\"\\’ve\", \" have\", phrase)\n",
    "    phrase = re.sub(r\"\\’m\", \" am\", phrase)\n",
    "\n",
    "    return phrase\n",
    "\n",
    "def preprocess(text):\n",
    "    # convert all the text into lower letters\n",
    "    # use this function to remove the contractions: https://gist.github.com/anandborad/d410a49a493b56dace4f814ab5325bbd\n",
    "    # remove all the spacial characters: except space ' '\n",
    "    text = text.lower()\n",
    "    text = decontractions(text)\n",
    "    text = re.sub('[^A-Za-z0-9 ]+', '', text)\n",
    "    return text\n",
    "\n",
    "def preprocess_rus(text):\n",
    "    # convert all the text into lower letters\n",
    "    # remove the words betweent brakets ()\n",
    "    # remove these characters: {'$', ')', '?', '\"', '’', '.',  '°', '!', ';', '/', \"'\", '€', '%', ':', ',', '('}\n",
    "    # replace these spl characters with space: '\\u200b', '\\xa0', '-', '/'\n",
    "    # we have found these characters after observing the data points, feel free to explore more and see if you can do find more\n",
    "    # you are free to do more proprocessing\n",
    "    # note that the model will learn better with better preprocessed data \n",
    "    text = text.lower()\n",
    "    text = re.sub('[$)\\?\"’.°!;\\'€%:,(/]', '', text)\n",
    "    text = re.sub('\\u200b', ' ', text)\n",
    "    text = re.sub('\\xa0', ' ', text)\n",
    "    text = re.sub('-', ' ', text)\n",
    "    return text\n",
    "\n",
    "\n",
    "data['english'] = data['english'].apply(preprocess)\n",
    "data['russian'] = data['russian'].apply(preprocess_rus)\n",
    "data.head()"
   ]
  },
  {
   "cell_type": "code",
   "execution_count": 6,
   "metadata": {},
   "outputs": [],
   "source": [
    "rus_lengths = data['russian'].str.split().apply(len)\n",
    "eng_lengths = data['english'].str.split().apply(len)"
   ]
  },
  {
   "cell_type": "code",
   "execution_count": 7,
   "metadata": {},
   "outputs": [
    {
     "name": "stdout",
     "output_type": "stream",
     "text": [
      "16.0\n"
     ]
    },
    {
     "data": {
      "image/png": "[encoded data removed]",
      "text/plain": [
       "<Figure size 432x288 with 1 Axes>"
      ]
     },
     "metadata": {
      "needs_background": "light"
     },
     "output_type": "display_data"
    }
   ],
   "source": [
    "sns.boxplot(rus_lengths,orient='v')\n",
    "print(np.percentile(rus_lengths,99.9))"
   ]
  },
  {
   "cell_type": "code",
   "execution_count": 8,
   "metadata": {},
   "outputs": [],
   "source": [
    "#99.9 percentile value of input leght is 22 so we will will input lenght for seuquence to 20\n",
    "encoder_inputs_length = 16\n",
    "decoder_inputs_length = 16"
   ]
  },
  {
   "cell_type": "code",
   "execution_count": 9,
   "metadata": {},
   "outputs": [
    {
     "data": {
      "text/html": [
       "<div>\n",
       "<style scoped>\n",
       "    .dataframe tbody tr th:only-of-type {\n",
       "        vertical-align: middle;\n",
       "    }\n",
       "\n",
       "    .dataframe tbody tr th {\n",
       "        vertical-align: top;\n",
       "    }\n",
       "\n",
       "    .dataframe thead th {\n",
       "        text-align: right;\n",
       "    }\n",
       "</style>\n",
       "<table border=\"1\" class=\"dataframe\">\n",
       "  <thead>\n",
       "    <tr style=\"text-align: right;\">\n",
       "      <th></th>\n",
       "      <th>russian</th>\n",
       "      <th>english_inp</th>\n",
       "      <th>english_out</th>\n",
       "    </tr>\n",
       "  </thead>\n",
       "  <tbody>\n",
       "    <tr>\n",
       "      <th>0</th>\n",
       "      <td>марш</td>\n",
       "      <td>&lt;start&gt; go</td>\n",
       "      <td>go &lt;end&gt;</td>\n",
       "    </tr>\n",
       "    <tr>\n",
       "      <th>1</th>\n",
       "      <td>иди</td>\n",
       "      <td>&lt;start&gt; go</td>\n",
       "      <td>go &lt;end&gt;</td>\n",
       "    </tr>\n",
       "    <tr>\n",
       "      <th>2</th>\n",
       "      <td>идите</td>\n",
       "      <td>&lt;start&gt; go</td>\n",
       "      <td>go &lt;end&gt;</td>\n",
       "    </tr>\n",
       "    <tr>\n",
       "      <th>3</th>\n",
       "      <td>здравствуйте</td>\n",
       "      <td>&lt;start&gt; hi</td>\n",
       "      <td>hi &lt;end&gt;</td>\n",
       "    </tr>\n",
       "    <tr>\n",
       "      <th>4</th>\n",
       "      <td>привет</td>\n",
       "      <td>&lt;start&gt; hi</td>\n",
       "      <td>hi &lt;end&gt;</td>\n",
       "    </tr>\n",
       "  </tbody>\n",
       "</table>\n",
       "</div>"
      ],
      "text/plain": [
       "        russian english_inp english_out\n",
       "0          марш  <start> go    go <end>\n",
       "1           иди  <start> go    go <end>\n",
       "2         идите  <start> go    go <end>\n",
       "3  здравствуйте  <start> hi    hi <end>\n",
       "4        привет  <start> hi    hi <end>"
      ]
     },
     "execution_count": 9,
     "metadata": {},
     "output_type": "execute_result"
    }
   ],
   "source": [
    "data['russian_len'] = data['russian'].str.split().apply(len)\n",
    "data = data[data['russian_len'] < encoder_inputs_length]\n",
    "\n",
    "data['english_len'] = data['english'].str.split().apply(len)\n",
    "data = data[data['english_len'] < encoder_inputs_length]\n",
    "\n",
    "data['english_inp'] = '<start> ' + data['english'].astype(str)\n",
    "data['english_out'] = data['english'].astype(str) + ' <end>'\n",
    "\n",
    "data = data.drop(['english','russian_len','english_len'], axis=1)\n",
    "# only for the first sentance add a toke <end> so that we will have <end> in tokenizer\n",
    "data.head()"
   ]
  },
  {
   "cell_type": "code",
   "execution_count": 10,
   "metadata": {},
   "outputs": [
    {
     "name": "stdout",
     "output_type": "stream",
     "text": [
      "(378036, 3) (42004, 3)\n"
     ]
    }
   ],
   "source": [
    "train, validation = train_test_split(data, test_size=0.1)\n",
    "print(train.shape, validation.shape)"
   ]
  },
  {
   "cell_type": "code",
   "execution_count": 11,
   "metadata": {},
   "outputs": [],
   "source": [
    "train.iloc[0]['english_inp']= str(train.iloc[0]['english_inp'])+' <end>'\n",
    "train.iloc[0]['english_out']= str(train.iloc[0]['english_out'])+' <end>'"
   ]
  },
  {
   "cell_type": "code",
   "execution_count": 12,
   "metadata": {},
   "outputs": [
    {
     "name": "stdout",
     "output_type": "stream",
     "text": [
      "16635\n",
      "16635\n",
      "54706\n"
     ]
    }
   ],
   "source": [
    "tokenizer_rus = Tokenizer()\n",
    "tokenizer_rus.fit_on_texts(data['russian'].values)\n",
    "\n",
    "tokenizer_eng = Tokenizer(filters='!\"#$%&()*+,-./:;=?@[\\\\]^_`{|}~\\t\\n')\n",
    "tokenizer_eng.fit_on_texts(data['english_inp'].values)\n",
    "\n",
    "tokenizer_eng_out = Tokenizer(filters='!\"#$%&()*+,-./:;=?@[\\\\]^_`{|}~\\t\\n')\n",
    "tokenizer_eng_out.fit_on_texts(data['english_out'].values)\n",
    "\n",
    "vocab_size_eng=len(tokenizer_eng.word_index.keys())\n",
    "print(vocab_size_eng)\n",
    "\n",
    "vocab_size_eng_out=len(tokenizer_eng_out.word_index.keys())\n",
    "print(vocab_size_eng_out)\n",
    "\n",
    "vocab_size_rus=len(tokenizer_rus.word_index.keys())\n",
    "print(vocab_size_rus)\n"
   ]
  },
  {
   "cell_type": "code",
   "execution_count": 13,
   "metadata": {},
   "outputs": [],
   "source": [
    "class Dataset:\n",
    "    def __init__(self, data, tokenizer_rus, tokenizer_eng,tokenizer_eng_out, max_len):\n",
    "        self.encoder_inps = data['russian'].values\n",
    "        self.decoder_inps = data['english_inp'].values\n",
    "        self.decoder_outs = data['english_out'].values\n",
    "        self.tokenizer_eng = tokenizer_eng\n",
    "        self.tokenizer_rus = tokenizer_rus\n",
    "        self.tokenizer_eng_out = tokenizer_eng_out\n",
    "        self.max_len = max_len\n",
    "\n",
    "    def __getitem__(self, i):\n",
    "        self.encoder_seq = self.tokenizer_rus.texts_to_sequences([self.encoder_inps[i]]) # need to pass list of values\n",
    "        self.decoder_inp_seq = self.tokenizer_eng.texts_to_sequences([self.decoder_inps[i]])\n",
    "   \n",
    "                \n",
    "        self.encoder_seq = pad_sequences(self.encoder_seq, maxlen=self.max_len, dtype='int32', padding='post')\n",
    "        self.decoder_inp_seq = pad_sequences(self.decoder_inp_seq, maxlen=self.max_len, dtype='int32', padding='post')\n",
    "\n",
    "        \n",
    "        self.decoder_target_data = self.tokenizer_eng_out.texts_to_sequences([self.decoder_outs[i]])\n",
    "        self.decoder_target_data = pad_sequences(self.decoder_target_data, maxlen=self.max_len, dtype='int32', padding='post')\n",
    "        \n",
    "        return tf.convert_to_tensor(self.encoder_seq), tf.convert_to_tensor(self.decoder_inp_seq), tf.convert_to_tensor(self.decoder_target_data)\n",
    "\n",
    "    def __len__(self): # your model.fit_gen requires this function\n",
    "        return len(self.encoder_inps)\n",
    "\n",
    "    \n",
    "class Dataloder(tf.keras.utils.Sequence):    \n",
    "    def __init__(self, dataset, batch_size=1):\n",
    "        self.dataset = dataset\n",
    "        self.batch_size = batch_size\n",
    "        self.indexes = np.arange(len(self.dataset.encoder_inps))\n",
    "\n",
    "\n",
    "    def __getitem__(self, i):\n",
    "        start = i * self.batch_size\n",
    "        stop = (i + 1) * self.batch_size\n",
    "        data = []\n",
    "        for j in range(start, stop):\n",
    "            data.append(self.dataset[j])\n",
    "\n",
    "        batch = [np.squeeze(np.stack(samples, axis=1), axis=0) for samples in zip(*data)]\n",
    "        # we are creating data like ([italian, english_inp], english_out) these are already converted into seq\n",
    "        return tuple([[batch[0],batch[1]],batch[2]])\n",
    "\n",
    "    def __len__(self):  # your model.fit_gen requires this function\n",
    "        return len(self.indexes) // self.batch_size\n",
    "\n",
    "    def on_epoch_end(self):\n",
    "        self.indexes = np.random.permutation(self.indexes)"
   ]
  },
  {
   "cell_type": "code",
   "execution_count": 14,
   "metadata": {},
   "outputs": [
    {
     "name": "stdout",
     "output_type": "stream",
     "text": [
      "(400, 16)\n"
     ]
    }
   ],
   "source": [
    "# encoder_inputs_length\n",
    "# decoder_inputs_length\n",
    "batch_size = 400\n",
    "train_dataset = Dataset(train, tokenizer_rus, tokenizer_eng,tokenizer_eng_out, encoder_inputs_length)\n",
    "test_dataset  = Dataset(validation, tokenizer_rus, tokenizer_eng,tokenizer_eng_out, encoder_inputs_length)\n",
    "\n",
    "train_dataloader = Dataloder(train_dataset, batch_size=batch_size)\n",
    "test_dataloader = Dataloder(test_dataset, batch_size=batch_size)\n",
    "\n",
    "\n",
    "print(test_dataloader[0][1].shape)"
   ]
  },
  {
   "cell_type": "markdown",
   "metadata": {
    "id": "PU4KIsGxLOfK"
   },
   "source": [
    "### <font color='blue'>**Implement custom encoder decoder and attention layers**</font>"
   ]
  },
  {
   "cell_type": "markdown",
   "metadata": {
    "id": "TMm3ADQDLOfK"
   },
   "source": [
    "<font color='blue'>**Encoder**</font>"
   ]
  },
  {
   "cell_type": "code",
   "execution_count": 15,
   "metadata": {
    "id": "Lx_5NA24KzRp"
   },
   "outputs": [],
   "source": [
    "class Encoder(tf.keras.Model):\n",
    "    '''\n",
    "    Encoder model -- That takes a input sequence and returns output sequence\n",
    "    '''\n",
    "\n",
    "    def __init__(self,inp_vocab_size,embedding_size,lstm_size,input_length):\n",
    "\n",
    "        #Initialize Embedding layer\n",
    "        #Intialize Encoder LSTM layer\n",
    "        super().__init__()\n",
    "        self.inp_vocab_size = inp_vocab_size\n",
    "        self.embedding_size = embedding_size\n",
    "        self.lstm_units = lstm_size\n",
    "        self.input_length = input_length\n",
    "        self.lstm_output = 0\n",
    "        self.lstm_state_h=0\n",
    "        self.lstm_state_c=0\n",
    "        self.embedding = Embedding(input_dim=self.inp_vocab_size, output_dim=self.embedding_size, input_length=self.input_length,mask_zero=True, name=\"embedding_layer_encoder\")\n",
    "        self.lstm = LSTM(self.lstm_units, return_state=True, return_sequences=True, name=\"Encoder_LSTM\")\n",
    "\n",
    "    def call(self,input_sequence,states):\n",
    "        \n",
    "        '''\n",
    "        This function takes a sequence input and the initial states of the encoder.\n",
    "        Pass the input_sequence input to the Embedding layer, Pass the embedding layer ouput to encoder_lstm\n",
    "        returns -- All encoder_outputs, last time steps hidden and cell state\n",
    "        '''\n",
    "        input_embedd = self.embedding(input_sequence)\n",
    "        self.lstm_output, self.lstm_state_h,self.lstm_state_c = self.lstm(input_embedd)\n",
    "        return self.lstm_output, self.lstm_state_h,self.lstm_state_c\n",
    "    \n",
    "    def initialize_states(self,batch_size):\n",
    "      '''\n",
    "      Given a batch size it will return intial hidden state and intial cell state.\n",
    "      If batch size is 32- Hidden state is zeros of size [32,lstm_units], cell state zeros is of size [32,lstm_units]\n",
    "      '''\n",
    "      return tf.convert_to_tensor(np.zeros((batch_size,self.lstm_units)))\n"
   ]
  },
  {
   "cell_type": "markdown",
   "metadata": {
    "id": "lXn278lhLYRM"
   },
   "source": [
    "<font color='blue'>**Attention**</font>"
   ]
  },
  {
   "cell_type": "code",
   "execution_count": 16,
   "metadata": {
    "id": "ab5SNdPZLlur"
   },
   "outputs": [],
   "source": [
    "class Attention(tf.keras.layers.Layer):\n",
    "  '''\n",
    "    Class the calculates score based on the scoring_function using Bahdanu attention mechanism.\n",
    "  '''\n",
    "  def __init__(self,scoring_function, att_units):\n",
    "\n",
    "    super().__init__()\n",
    "    # Please go through the reference notebook and research paper to complete the scoring functions\n",
    "    self.scoring_function = scoring_function\n",
    "    self.V = Dense(1)\n",
    "    if self.scoring_function=='dot':\n",
    "      # Intialize variables needed for Dot score function here\n",
    "      pass\n",
    "    if scoring_function == 'general':\n",
    "      # Intialize variables needed for General score function here\n",
    "      self.Wa = Dense(att_units)\n",
    "    elif scoring_function == 'concat':\n",
    "      # Intialize variables needed for Concat score function here\n",
    "      self.W1 = Dense(att_units)\n",
    "      self.W2 = Dense(att_units)\n",
    "      \n",
    "  \n",
    "  \n",
    "  def call(self,decoder_hidden_state,encoder_output):\n",
    "    '''\n",
    "      Attention mechanism takes two inputs current step -- decoder_hidden_state and all the encoder_outputs.\n",
    "      * Based on the scoring function we will find the score or similarity between decoder_hidden_state and encoder_output.\n",
    "        Multiply the score function with your encoder_outputs to get the context vector.\n",
    "        Function returns context vector and attention weights(softmax - scores)\n",
    "    '''\n",
    "    attention_weights = []\n",
    "    context_vector = []\n",
    "#     print(decoder_hidden_state.shape)\n",
    "    if self.scoring_function == 'dot':\n",
    "        # Implement Dot score function here\n",
    "        score = self.V(tf.matmul(encoder_output,tf.reshape(decoder_hidden_state,[decoder_hidden_state.shape[0],decoder_hidden_state.shape[1],1])))\n",
    "        attention_weights = tf.nn.softmax(score, axis=1)\n",
    "        context_vector = tf.reduce_sum(attention_weights * encoder_output,axis=1)\n",
    "#         for d,e in zip(decoder_hidden_state,encoder_output):\n",
    "#             print(tf.tensordot(e,tf.reshape(d,[-1,1]),axes=1).shape)\n",
    "#             attention_weight =  self.softmax(tf.tensordot(e,tf.reshape(d,[-1,1]),axes=1))\n",
    "#             attention_weights.append(attention_weight)\n",
    "\n",
    "#             context_vector.append(tf.reduce_sum(attention_weight * e,axis=0))\n",
    "#         print(attention_weight.shape)    \n",
    "#         print(attention_weights)\n",
    "        return  tf.convert_to_tensor(context_vector) , tf.convert_to_tensor(attention_weights)\n",
    "    elif self.scoring_function == 'general':\n",
    "        score = self.V(self.Wa(tf.matmul(encoder_output,tf.reshape(decoder_hidden_state,[decoder_hidden_state.shape[0],decoder_hidden_state.shape[1],1]))))\n",
    "        attention_weights = tf.nn.softmax(score, axis=1)\n",
    "        context_vector = tf.reduce_sum(attention_weights * encoder_output,axis=1)\n",
    "        # Implement General score function here\n",
    "#         for d,e in zip(decoder_hidden_state,encoder_output):\n",
    "#             attention_weight =self.softmax(self.Wa(e*d))\n",
    "#             attention_weights.append(attention_weight)\n",
    "            \n",
    "#             vector = attention_weight * e\n",
    "#             vector = tf.reduce_sum(vector,axis=0)\n",
    "            \n",
    "#             context_vector.append(tf.reduce_sum(attention_weight * e,axis=0))\n",
    "            \n",
    "        return  tf.convert_to_tensor(context_vector) , tf.convert_to_tensor(attention_weights)   \n",
    "    elif self.scoring_function == 'concat':\n",
    "        decoder_hidden_state = tf.expand_dims(decoder_hidden_state, 1)\n",
    "        score = self.V(tf.nn.tanh(self.W1(decoder_hidden_state) + self.W2(encoder_output)))\n",
    "        \n",
    "        attention_weights = tf.nn.softmax(score, axis=1)\n",
    "        context_vector = attention_weights * encoder_output\n",
    "        context_vector = tf.reduce_sum(context_vector, axis=1)\n",
    "        # Implement General score function here\n",
    "#         decoder_hidden_state = tf.expand_dims(decoder_hidden_state, 1)\n",
    "#         attention_weights = self.softmax(tf.nn.tanh(self.W1(decoder_hidden_state+encoder_output)))\n",
    "#         context_vector = tf.reduce_sum(attention_weights * encoder_output,axis=1)\n",
    "#         for d,e in zip(decoder_hidden_state,encoder_output):\n",
    "            \n",
    "#             attention_weight = self.softmax(tf.nn.tanh(self.W1(d+e)))\n",
    "#             attention_weights.append(attention_weight)\n",
    "        \n",
    "#             context_vector.append(tf.reduce_sum(attention_weight * e,axis=0))            \n",
    "            \n",
    "        return  tf.convert_to_tensor(context_vector) , tf.convert_to_tensor(attention_weights)   \n",
    "    "
   ]
  },
  {
   "cell_type": "markdown",
   "metadata": {
    "id": "ic-FNEbfL2DN"
   },
   "source": [
    "<font color='blue'>**OneStepDecoder**</font>"
   ]
  },
  {
   "cell_type": "code",
   "execution_count": 17,
   "metadata": {
    "id": "Kc8m7lmOL097"
   },
   "outputs": [],
   "source": [
    "class One_Step_Decoder(tf.keras.Model):\n",
    "  def __init__(self,tar_vocab_size, embedding_dim, input_length, dec_units ,score_fun ,att_units):\n",
    "        \n",
    "        super().__init__()\n",
    "\n",
    "      # Initialize decoder embedding layer, LSTM and any other objects needed\n",
    "        self.tar_vocab_size = tar_vocab_size\n",
    "        self.embedding_dim = embedding_dim\n",
    "        self.score_fun = score_fun\n",
    "        self.input_length = input_length\n",
    "        self.dec_units = dec_units\n",
    "        self.att_units = att_units\n",
    "        \n",
    "        self.embedding = Embedding(input_dim=self.tar_vocab_size, output_dim=self.embedding_dim, input_length=self.input_length,mask_zero=True, name=\"embedding_layer_one_step_deocoder\")\n",
    "        self.lstm = LSTM(self.dec_units, return_state=True, return_sequences=True, name=\"one_step_decoder_LSTM\")        \n",
    "        self.dense = Dense(tar_vocab_size)\n",
    "        \n",
    "        self.attention=Attention(score_fun,att_units)\n",
    "\n",
    "  def call(self,input_to_decoder, encoder_output, state_h,state_c):\n",
    "    '''\n",
    "        One step decoder mechanisim step by step:\n",
    "      A. Pass the input_to_decoder to the embedding layer and then get the output(batch_size,1,embedding_dim)\n",
    "      B. Using the encoder_output and decoder hidden state, compute the context vector.\n",
    "      C. Concat the context vector with the step A output\n",
    "      D. Pass the Step-C output to LSTM/GRU and get the decoder output and states(hidden and cell state)\n",
    "      E. Pass the decoder output to dense layer(vocab size) and store the result into output.\n",
    "      F. Return the states from step D, output from Step E, attention weights from Step -B\n",
    "    '''\n",
    "\n",
    "    embeding_output = self.embedding(input_to_decoder) # step A\n",
    "    \n",
    "    context_vector,attention_weights = self.attention(state_h,encoder_output)\n",
    "    context_vector = tf.expand_dims(context_vector,axis=1)\n",
    "#     print(context_vector.shape)\n",
    "    concated = tf.concat([embeding_output,context_vector],axis=2) # step C\n",
    "       \n",
    "    decode_output,out_state_h,out_state_c = self.lstm(concated,initial_state=[state_h,state_c]) # step D \n",
    "#     print(decode_output.shape)\n",
    "    output = self.dense(tf.reshape(decode_output,[tf.shape(decode_output)[0],tf.shape(decode_output)[2]])) # step E\n",
    "    return tf.convert_to_tensor(output),tf.convert_to_tensor(out_state_h),tf.convert_to_tensor(out_state_c),tf.convert_to_tensor(attention_weights),tf.convert_to_tensor(context_vector)\n"
   ]
  },
  {
   "cell_type": "markdown",
   "metadata": {
    "id": "6FHrurjUMGAi"
   },
   "source": [
    "<font color='blue'>**Decoder**</font>"
   ]
  },
  {
   "cell_type": "code",
   "execution_count": 18,
   "metadata": {
    "id": "NV-x31rj6Hc4"
   },
   "outputs": [],
   "source": [
    "class Decoder(tf.keras.Model):\n",
    "    def __init__(self,out_vocab_size, embedding_dim, input_length, dec_units ,score_fun ,att_units):\n",
    "      #Intialize necessary variables and create an object from the class onestepdecoder\n",
    "        super().__init__()\n",
    "\n",
    "      # Initialize decoder embedding layer, LSTM and any other objects needed\n",
    "        self.out_vocab_size = out_vocab_size\n",
    "        self.embedding_dim = embedding_dim\n",
    "        self.score_fun = score_fun\n",
    "        self.input_length = input_length\n",
    "        self.dec_units = dec_units\n",
    "        self.att_units = att_units\n",
    "        self.onestepdecoder=One_Step_Decoder(out_vocab_size, embedding_dim, input_length, dec_units ,score_fun ,att_units)\n",
    "        \n",
    "    def call(self, input_to_decoder,encoder_output,decoder_hidden_state,decoder_cell_state):\n",
    "#         print(input_to_decoder.shape)\n",
    "        output_tensor = tf.TensorArray(tf.float32,size=input_to_decoder.shape[1],name='output_tensor')\n",
    "        #Initialize an empty Tensor array, that will store the outputs at each and every time step\n",
    "        #Create a tensor array as shown in the reference notebook\n",
    "        \n",
    "        #Iterate till the length of the decoder input\n",
    "            # Call onestepdecoder for each token in decoder_input\n",
    "            # Store the output in tensorarray\n",
    "        for time in range(input_to_decoder.shape[1]):\n",
    "#             print(decoder_hidden_state)\n",
    "            output,decoder_hidden_state,decoder_cell_state,attention_weights,context_vector = self.onestepdecoder(input_to_decoder[:,time:time+1],encoder_output,decoder_hidden_state,decoder_cell_state)\n",
    "            output_tensor = output_tensor.write(time,output)\n",
    "         \n",
    "#         print(tf.transpose(output_tensor.stack(),[1,0,2]))\n",
    "        output_tensor = tf.transpose(output_tensor.stack(),[1,0,2])\n",
    "        return output_tensor\n",
    "        # Return the tensor array"
   ]
  },
  {
   "cell_type": "markdown",
   "metadata": {
    "id": "fC1T1EOoMTqC"
   },
   "source": [
    "<font color='blue'>**Encoder Decoder model**</font>"
   ]
  },
  {
   "cell_type": "code",
   "execution_count": 19,
   "metadata": {
    "id": "FfqBIe20MT3D"
   },
   "outputs": [],
   "source": [
    "class encoder_decoder(tf.keras.Model):\n",
    "      def __init__(self,vocab_size_ita,vocab_size_eng,encoder_inputs_length,decoder_inputs_length,embedding_dim,enc_units,dec_units,score_fun,att_units,batch_size):\n",
    "            #Intialize objects from encoder decoder\n",
    "            super().__init__() # https://stackoverflow.com/a/27134600/4084039\n",
    "            self.encoder = Encoder(vocab_size_ita+1,embedding_dim,enc_units,encoder_inputs_length)\n",
    "            self.decoder = Decoder(vocab_size_eng+1,embedding_dim,encoder_inputs_length,dec_units,score_fun,att_units)\n",
    "#             self.decoder = Decoder(out_vocab_size=vocab_size_eng+1,embedding_size=embedding_dim,lstm_size=dec_units,input_length=encoder_inputs_length)\n",
    "#             self.dense   = Dense(vocab_size_eng, activation='softmax')\n",
    "            self.batch_size = batch_size\n",
    "            self.enc_units = enc_units\n",
    "      def call(self,data):\n",
    "        #Intialize encoder states, Pass the encoder_sequence to the embedding layer\n",
    "        # Decoder initial states are encoder final states, Initialize it accordingly\n",
    "        # Pass the decoder sequence,encoder_output,decoder states to Decoder\n",
    "        # return the decoder output\n",
    "        input,output = data[0], data[1]\n",
    "        initial_state=self.encoder.initialize_states(self.batch_size)\n",
    "        encoder_output, encoder_h, encoder_c = self.encoder(input,initial_state)\n",
    "        decoder_output  = self.decoder(output,encoder_output, encoder_h, encoder_c)\n",
    "#         output   = self.dense(decoder_output)\n",
    "        return tf.convert_to_tensor(decoder_output)\n",
    "\n",
    "#         input,output = data[0], data[1]\n",
    "#         print(data)\n",
    "#         encoder_output, encoder_h, encoder_c = self.encoder(input)\n",
    "#         decoder_output,_,_  = self.decoder(output, [encoder_h, encoder_c])\n",
    "#         output   = self.dense(decoder_output)\n",
    "#         return output"
   ]
  },
  {
   "cell_type": "markdown",
   "metadata": {
    "id": "WVRxB-FDMJWL"
   },
   "source": [
    "<font color='blue'>**Custom loss function**</font>"
   ]
  },
  {
   "cell_type": "code",
   "execution_count": 20,
   "metadata": {
    "id": "QY_3izrXMs8y"
   },
   "outputs": [],
   "source": [
    "# Refer https://www.tensorflow.org/tutorials/text/nmt_with_attention#define_the_optimizer_and_the_loss_function\n",
    "loss_object = tf.keras.losses.SparseCategoricalCrossentropy(\n",
    "    from_logits=True, reduction='none')\n",
    "\n",
    "def custom_lossfunction(targets,logits):\n",
    "    mask = tf.math.logical_not(tf.math.equal(targets, 0))\n",
    "    loss_ = loss_object(targets,logits)\n",
    "#     print(loss_)\n",
    "    mask = tf.cast(mask, dtype=loss_.dtype)\n",
    "#     print(mask)\n",
    "    loss_ *= mask\n",
    "    return tf.reduce_mean(loss_)"
   ]
  },
  {
   "cell_type": "code",
   "execution_count": 21,
   "metadata": {},
   "outputs": [],
   "source": [
    "epochs = 15\n",
    "optimizer = tf.keras.optimizers.Adam()\n",
    "checkpoint_path = \"checkpoint/model.ckpt\"\n",
    "model_checkpoint_callback = tf.keras.callbacks.ModelCheckpoint(filepath=checkpoint_path,save_best_only=True,monitor='accuracy')"
   ]
  },
  {
   "cell_type": "code",
   "execution_count": 22,
   "metadata": {},
   "outputs": [
    {
     "name": "stdout",
     "output_type": "stream",
     "text": [
      "model weights loaded\n"
     ]
    }
   ],
   "source": [
    "# Implement teacher forcing while training your model. You can do it two ways.\n",
    "# Prepare your data, encoder_input,decoder_input and decoder_output\n",
    "# if decoder input is \n",
    "# <start> Hi how are you\n",
    "# decoder output should be\n",
    "# Hi How are you <end>\n",
    "# i.e when you have send <start>-- decoder predicted Hi, 'Hi' decoder predicted 'How' .. e.t.c\n",
    "\n",
    "# or\n",
    " \n",
    "# model.fit([train_ita,train_eng],train_eng[:,1:]..)\n",
    "# Note: If you follow this approach some grader functions might return false and this is fine.\n",
    "\n",
    "#Create an object of encoder_decoder Model class, \n",
    "\n",
    "model  = encoder_decoder(vocab_size_rus,vocab_size_eng,encoder_inputs_length,decoder_inputs_length,50,256,256,'concat',16,batch_size)\n",
    "model.compile(optimizer=optimizer,loss=custom_lossfunction,metrics=['accuracy'],run_eagerly=True)\n",
    "\n",
    "# check if model weights present or not \n",
    "if os.path.isfile('checkpoint/model.ckpt.index'):\n",
    "    print('model weights loaded')\n",
    "    model.load_weights('checkpoint/model.ckpt')\n",
    "    \n",
    "train_steps=train.shape[0]//batch_size\n",
    "valid_steps=validation.shape[0]//batch_size\n",
    "model.fit_generator(train_dataloader,steps_per_epoch=train_steps,epochs=epochs,callbacks=[model_checkpoint_callback],verbose=1)\n",
    "\n",
    "#save model\n",
    "#tf.keras.models.save_model(model,'save')"
   ]
  },
  {
   "cell_type": "code",
   "execution_count": 23,
   "metadata": {},
   "outputs": [],
   "source": [
    "index_word = { token[1]:token[0] for token in tokenizer_eng_out.word_index.items()}\n",
    "\n",
    "def attentionPlot(attention, sentence, predicted_sentence):\n",
    "    fig = plt.figure(figsize=(10,10))\n",
    "    ax = fig.add_subplot(1, 1, 1)\n",
    "#     print(predicted_sentence)\n",
    "    ax.matshow(attention, cmap='viridis')\n",
    "    fontdict = {'fontsize': 14}\n",
    "    ax.set_xticklabels(['']+predicted_sentence.split(), fontdict=fontdict, rotation=90)\n",
    "    ax.set_yticklabels(['']+sentence.split(), fontdict=fontdict)\n",
    "    plt.show()\n",
    "    \n",
    "def predictTask(input_sentence,model):\n",
    "    attention_plot = np.zeros((encoder_inputs_length, decoder_inputs_length))\n",
    "\n",
    "    '''\n",
    "    A. Given input sentence, convert the sentence into integers using tokenizer used earlier\n",
    "    B. Pass the input_sequence to encoder. we get encoder_outputs, last time step hidden and cell state\n",
    "    C. Initialize index of <start> as input to decoder. and encoder final states as input_states to onestepdecoder.\n",
    "    D. till we reach max_length of decoder or till the model predicted word <end>:\n",
    "         predictions, input_states, attention_weights = model.layers[1].onestepdecoder(input_to_decoder, encoder_output, input_states)\n",
    "         Save the attention weights\n",
    "         And get the word using the tokenizer(word index) and then store it in a string.\n",
    "    E. Call plot_attention(#params)\n",
    "    F. Return the predicted sentence\n",
    "    '''\n",
    "    encoder_seq = tf.convert_to_tensor(pad_sequences(tokenizer_rus.texts_to_sequences([input_sentence]), maxlen=encoder_inputs_length, dtype='int32', padding='post'))\n",
    "    initial_state=model.layers[0].initialize_states(batch_size)\n",
    "    \n",
    "    enc_output, enc_state_h, enc_state_c = model.layers[0](encoder_seq,initial_state)\n",
    "    start = np.zeros((1,1))\n",
    "    predicted = ''\n",
    "    states_values = [enc_state_h, enc_state_c]\n",
    "    startFlag=True\n",
    "    for i in range(decoder_inputs_length):\n",
    "        if start[0][0] != 1 or startFlag == True:  \n",
    "            startFlag = False\n",
    "            predicted_out,out_state_h,out_state_c,attention_weights,context_vector = model.layers[1].onestepdecoder(start, enc_output, states_values[0],states_values[1])\n",
    "\n",
    "            states_values = [out_state_h,out_state_c]\n",
    "            \n",
    "            start = np.reshape(np.argmax(predicted_out), (1, 1))\n",
    "            predicted+=index_word[start[0][0]] + ' '\n",
    "            attention_plot[i] = tf.reshape(attention_weights, (-1, )).numpy()\n",
    "        else:\n",
    "            return predicted,attention_plot\n",
    "       \n",
    "    return predicted ,attention_plot"
   ]
  },
  {
   "cell_type": "code",
   "execution_count": 27,
   "metadata": {},
   "outputs": [
    {
     "name": "stdout",
     "output_type": "stream",
     "text": [
      "Input russian string:  дай её мне\n",
      "Predicted Output string:  give it to me <end> \n",
      "True Output string:  give it to me <end>\n"
     ]
    },
    {
     "data": {
      "image/png": "[encoded data removed]",
      "text/plain": [
       "<Figure size 720x720 with 1 Axes>"
      ]
     },
     "metadata": {
      "needs_background": "light"
     },
     "output_type": "display_data"
    }
   ],
   "source": [
    "predict_input_string = validation.sample(1).values[0]\n",
    "print('Input russian string: ',predict_input_string[0])\n",
    "predicted,attention_plot = predictTask(predict_input_string[0],model)\n",
    "print('Predicted Output string: ',predicted)\n",
    "print('True Output string: ',predict_input_string[2])\n",
    "attention_plot = attention_plot[:len(predicted.split()[:-1]), :len((predict_input_string[0]).split())]\n",
    "attentionPlot(attention_plot,predicted,predict_input_string[0])"
   ]
  },
  {
   "cell_type": "code",
   "execution_count": 28,
   "metadata": {
    "id": "1kN9ZWViQNMB"
   },
   "outputs": [
    {
     "name": "stderr",
     "output_type": "stream",
     "text": [
      "  0%|                                                                                         | 0/1000 [00:00<?, ?it/s]C:\\Users\\Dhananjay\\AppData\\Local\\Programs\\Python\\Python37\\lib\\site-packages\\nltk\\translate\\bleu_score.py:516: UserWarning: \n",
      "The hypothesis contains 0 counts of 2-gram overlaps.\n",
      "Therefore the BLEU score evaluates to 0, independently of\n",
      "how many N-gram overlaps of lower order it contains.\n",
      "Consider using lower n-gram order or use SmoothingFunction()\n",
      "  warnings.warn(_msg)\n",
      "C:\\Users\\Dhananjay\\AppData\\Local\\Programs\\Python\\Python37\\lib\\site-packages\\nltk\\translate\\bleu_score.py:516: UserWarning: \n",
      "The hypothesis contains 0 counts of 3-gram overlaps.\n",
      "Therefore the BLEU score evaluates to 0, independently of\n",
      "how many N-gram overlaps of lower order it contains.\n",
      "Consider using lower n-gram order or use SmoothingFunction()\n",
      "  warnings.warn(_msg)\n",
      "C:\\Users\\Dhananjay\\AppData\\Local\\Programs\\Python\\Python37\\lib\\site-packages\\nltk\\translate\\bleu_score.py:516: UserWarning: \n",
      "The hypothesis contains 0 counts of 4-gram overlaps.\n",
      "Therefore the BLEU score evaluates to 0, independently of\n",
      "how many N-gram overlaps of lower order it contains.\n",
      "Consider using lower n-gram order or use SmoothingFunction()\n",
      "  warnings.warn(_msg)\n",
      "100%|██████████████████████████████████████████████████████████████████████████████| 1000/1000 [01:04<00:00, 15.57it/s]\n"
     ]
    }
   ],
   "source": [
    "#Sample example\n",
    "# Predict on 1000 random sentences on test data and calculate the average BLEU score of these sentences.\n",
    "# https://www.nltk.org/_modules/nltk/translate/bleu_score.html\n",
    "sample_test  = validation.sample(1000)\n",
    "bleu_score = []\n",
    "for datapoint in tqdm(sample_test.values):\n",
    "    predicted,attention_plot = predictTask(datapoint[0],model)\n",
    "    predicted = predicted.split()[:-1]\n",
    "    actual = [datapoint[2].split()[:-1]]\n",
    "    bleu_score.append(bleu.sentence_bleu(actual, predicted))"
   ]
  },
  {
   "cell_type": "code",
   "execution_count": 29,
   "metadata": {},
   "outputs": [
    {
     "name": "stdout",
     "output_type": "stream",
     "text": [
      "Average Bleu score for concat model is:  0.5970476272110348\n"
     ]
    }
   ],
   "source": [
    "print(\"Average Bleu score for concat model is: \",np.mean(np.array(bleu_score)))     "
   ]
  },
  {
   "cell_type": "code",
   "execution_count": null,
   "metadata": {},
   "outputs": [],
   "source": []
  }
 ],
 "metadata": {
  "colab": {
   "collapsed_sections": [],
   "name": "Seq2SeqImplementation__Assignment.ipynb",
   "provenance": [],
   "toc_visible": true
  },
  "kernelspec": {
   "display_name": "Python 3",
   "language": "python",
   "name": "python3"
  },
  "language_info": {
   "codemirror_mode": {
    "name": "ipython",
    "version": 3
   },
   "file_extension": ".py",
   "mimetype": "text/x-python",
   "name": "python",
   "nbconvert_exporter": "python",
   "pygments_lexer": "ipython3",
   "version": "3.7.7"
  }
 },
 "nbformat": 4,
 "nbformat_minor": 1
}
